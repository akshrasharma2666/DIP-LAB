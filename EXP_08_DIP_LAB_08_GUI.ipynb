{
  "nbformat": 4,
  "nbformat_minor": 0,
  "metadata": {
    "colab": {
      "name": "EXP.08-DIP-LAB-08-GUI.ipynb",
      "provenance": []
    },
    "kernelspec": {
      "name": "python3",
      "display_name": "Python 3"
    }
  },
  "cells": [
    {
      "cell_type": "markdown",
      "metadata": {
        "id": "gE0mTVtc_GQQ"
      },
      "source": [
        "**IMPLEMENTING GUI IN COLAB**"
      ]
    },
    {
      "cell_type": "markdown",
      "metadata": {
        "id": "gJMZwUTTVnuo"
      },
      "source": [
        ""
      ]
    },
    {
      "cell_type": "code",
      "metadata": {
        "id": "KjgY8SBF_BfL"
      },
      "source": [
        "import numpy as np\n",
        "import pandas as pd\n",
        "import cv2 as cv\n",
        "from google.colab.patches import cv2_imshow # for image display\n",
        "from skimage import io\n",
        "from PIL import Image \n",
        "import matplotlib.pylab as plt\n",
        "#import matplotlib.image as mpimg \n",
        "#from matplotlib.pyplot import imshow\n",
        "#%matplotlib inline"
      ],
      "execution_count": null,
      "outputs": []
    },
    {
      "cell_type": "code",
      "metadata": {
        "colab": {
          "base_uri": "https://localhost:8080/"
        },
        "id": "3EO3q1OEWJXc",
        "outputId": "54e460a0-24d9-4c9e-8785-e862d67baacc"
      },
      "source": [
        "#@title Google Form {run:\"auto\"} \n",
        "NAME = \"Neeraj\" #@param {type:\"string\"}\n",
        "drop_down = 'Sec B' #@param[\"Sec A\", \"Sec B\", \"Sec C\", 'Sec D','other\"]\n",
        "text_dropdown = 'PCE' #@param [\"PIET\", \"PCE\", \"SKIT\", \"Sec D\"] {allow-input: true}\n",
        "print(NAME)\n",
        "print(drop_down)\n",
        "print(text_dropdown)"
      ],
      "execution_count": null,
      "outputs": [
        {
          "output_type": "stream",
          "text": [
            "Neeraj\n",
            "Sec B\n",
            "PCE\n"
          ],
          "name": "stdout"
        }
      ]
    },
    {
      "cell_type": "code",
      "metadata": {
        "id": "rUDgTKONYBsB"
      },
      "source": [
        "#@title Google Form to collect student data\n",
        "Student_Name= \"jatin\" #@param {type:\"string\"}\n",
        "College_name= 'SKIT' #@param [\"PIET\", \"PGI\", \"PCE\", \"other\"]{allow-input: true}"
      ],
      "execution_count": null,
      "outputs": []
    },
    {
      "cell_type": "code",
      "metadata": {
        "colab": {
          "base_uri": "https://localhost:8080/"
        },
        "id": "MT8ekmuT4jaW",
        "outputId": "31a0a380-eae8-4ac8-8df8-9a57ced82264"
      },
      "source": [
        "#@title Student Portal {run:\"auto\"}\n",
        "Student_name= \"Yatin\" #@param {type:\"string\"}\n",
        "Section= 'Sec A' #@param [\"Sec A\", \"Sec B\", \"Sec C\"]\n",
        "print(Student_name)\n",
        "print (Section)"
      ],
      "execution_count": null,
      "outputs": [
        {
          "output_type": "stream",
          "text": [
            "Yatin\n",
            "Sec A\n"
          ],
          "name": "stdout"
        }
      ]
    },
    {
      "cell_type": "code",
      "metadata": {
        "colab": {
          "base_uri": "https://localhost:8080/"
        },
        "id": "bsHNGXjwRpWZ",
        "outputId": "0fcd4880-1bf5-4ecb-8b34-4e18a8bd12e9"
      },
      "source": [
        "#@title Raw Fields {run:\"auto\"} \n",
        "\n",
        "raw_input = 'pushpendra' #@param{type:\"raw\"}\n",
        "raw_dropdown = NAME #@param[\"Text\",\"NAME\",\"alka\", 1,\"raw_input\",\"False\", \"String\"] {type:\"raw\"} \n",
        "print(raw_input)\n",
        "print(raw_dropdown)"
      ],
      "execution_count": null,
      "outputs": [
        {
          "output_type": "stream",
          "text": [
            "pushpendra\n",
            "Neeraj\n"
          ],
          "name": "stdout"
        }
      ]
    },
    {
      "cell_type": "code",
      "metadata": {
        "colab": {
          "base_uri": "https://localhost:8080/"
        },
        "id": "Ttsg-xhXTVZV",
        "outputId": "01dae0c4-34de-4619-ba02-9bdbfc8c6b02"
      },
      "source": [
        "#@title Date Field {run:\"auto\"}\n",
        "DOB = '2021-06-25' #@param{type:\"date\"}\n",
        "print(DOB)"
      ],
      "execution_count": null,
      "outputs": [
        {
          "output_type": "stream",
          "text": [
            "2021-06-25\n"
          ],
          "name": "stdout"
        }
      ]
    },
    {
      "cell_type": "code",
      "metadata": {
        "id": "kRM0Z1PPT6mU",
        "colab": {
          "base_uri": "https://localhost:8080/"
        },
        "outputId": "dfbd5950-9d62-4ace-ee08-dc8d82fbff52"
      },
      "source": [
        "#@title Number Fields   {run:\"auto\"} \n",
        "number_input =  0#@param {type:\"number\"}\n",
        "number_slider = 0 #@param {type:\"slider\",min:0, max:1, step:0.1}\n",
        "\n",
        "integer_input =  23#@param {type:\"number\"}\n",
        "integer_slider = 100 #@param {type:\"slider\",min:0, max:100, step:10}\n",
        "\n",
        "print(number_input)\n",
        "print(number_slider)\n",
        "\n",
        "print(integer_input)\n",
        "print(integer_slider)"
      ],
      "execution_count": null,
      "outputs": [
        {
          "output_type": "stream",
          "text": [
            "0\n",
            "0\n",
            "23\n",
            "100\n"
          ],
          "name": "stdout"
        }
      ]
    },
    {
      "cell_type": "code",
      "metadata": {
        "colab": {
          "base_uri": "https://localhost:8080/"
        },
        "id": "p_pZDIAcVePW",
        "outputId": "70558c2a-ab14-4165-ed34-968da7369677"
      },
      "source": [
        "#@title Boolean Fields {run:\"auto\"} \n",
        "boolean_checkbox = False #@param {type:\"boolean\"}\n",
        "boolean_dropdowm = \"False\" #@param [\"False\", \"True\"] \n",
        "print(boolean_checkbox)\n",
        "print(boolean_dropdowm)"
      ],
      "execution_count": null,
      "outputs": [
        {
          "output_type": "stream",
          "text": [
            "False\n",
            "False\n"
          ],
          "name": "stdout"
        }
      ]
    }
  ]
}